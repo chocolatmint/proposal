{
 "cells": [
  {
   "cell_type": "markdown",
   "metadata": {},
   "source": [
    "## Modelling"
   ]
  },
  {
   "cell_type": "code",
   "execution_count": 1,
   "metadata": {},
   "outputs": [],
   "source": [
    "import pickle\n",
    "\n",
    "with open('credit_default_datasets.pkl', 'rb') as file:\n",
    "    loaded_datasets = pickle.load(file)\n",
    "\n",
    "credit_default = loaded_datasets['credit_default']\n",
    "x_train = loaded_datasets['x_train']\n",
    "x_test = loaded_datasets['x_test']\n",
    "y_train = loaded_datasets['y_train']\n",
    "y_test = loaded_datasets['y_test']"
   ]
  },
  {
   "cell_type": "code",
   "execution_count": 2,
   "metadata": {},
   "outputs": [],
   "source": [
    "x_train['MARRIAGE_0'] = x_train['MARRIAGE_0'].astype(int)\n",
    "x_train['MARRIAGE_1'] = x_train['MARRIAGE_1'].astype(int)\n",
    "x_train['MARRIAGE_2'] = x_train['MARRIAGE_2'].astype(int)\n",
    "x_train['MARRIAGE_3'] = x_train['MARRIAGE_3'].astype(int)\n",
    "x_train['SEX_1'] = x_train['SEX_1'].astype(int)\n",
    "x_train['SEX_2'] = x_train['SEX_2'].astype(int)\n",
    "\n",
    "x_test['MARRIAGE_0'] = x_test['MARRIAGE_0'].astype(int)\n",
    "x_test['MARRIAGE_1'] = x_test['MARRIAGE_1'].astype(int)\n",
    "x_test['MARRIAGE_2'] = x_test['MARRIAGE_2'].astype(int)\n",
    "x_test['MARRIAGE_3'] = x_test['MARRIAGE_3'].astype(int)\n",
    "x_test['SEX_1'] = x_test['SEX_1'].astype(int)\n",
    "x_test['SEX_2'] = x_test['SEX_2'].astype(int)"
   ]
  },
  {
   "cell_type": "markdown",
   "metadata": {},
   "source": [
    "### Unscaled Data"
   ]
  },
  {
   "cell_type": "markdown",
   "metadata": {},
   "source": [
    "#### Random Forest\n"
   ]
  },
  {
   "cell_type": "code",
   "execution_count": 3,
   "metadata": {},
   "outputs": [],
   "source": [
    "from sklearn.ensemble import RandomForestClassifier\n",
    "rf_unscaled = RandomForestClassifier(n_estimators = 1000, random_state = 1234)\n",
    "\n",
    "rf_unscaled.fit(x_train, y_train);\n",
    "with open('random_forest_unscaled.pkl', 'wb') as file:\n",
    "    pickle.dump(rf_unscaled, file)"
   ]
  },
  {
   "cell_type": "code",
   "execution_count": 4,
   "metadata": {},
   "outputs": [],
   "source": [
    "rf_pred_unscaled = rf_unscaled.predict(x_test)\n",
    "with open('rf_pred_unscaled.pkl', 'wb') as file:\n",
    "    pickle.dump(rf_pred_unscaled, file)"
   ]
  },
  {
   "cell_type": "code",
   "execution_count": 5,
   "metadata": {},
   "outputs": [],
   "source": [
    "from sklearn.metrics import confusion_matrix\n",
    "eval_rf_unscaled = confusion_matrix(rf_pred_unscaled, y_test)"
   ]
  },
  {
   "cell_type": "code",
   "execution_count": 57,
   "metadata": {},
   "outputs": [
    {
     "data": {
      "text/plain": [
       "LIMIT_BAL     int64\n",
       "EDUCATION     int64\n",
       "AGE           int64\n",
       "PAY_1         int64\n",
       "PAY_2         int64\n",
       "PAY_3         int64\n",
       "PAY_4         int64\n",
       "PAY_5         int64\n",
       "PAY_6         int64\n",
       "BILL_AMT1     int64\n",
       "BILL_AMT2     int64\n",
       "BILL_AMT3     int64\n",
       "BILL_AMT4     int64\n",
       "BILL_AMT5     int64\n",
       "BILL_AMT6     int64\n",
       "PAY_AMT1      int64\n",
       "PAY_AMT2      int64\n",
       "PAY_AMT3      int64\n",
       "PAY_AMT4      int64\n",
       "PAY_AMT5      int64\n",
       "PAY_AMT6      int64\n",
       "MARRIAGE_0    int64\n",
       "MARRIAGE_1    int64\n",
       "MARRIAGE_2    int64\n",
       "MARRIAGE_3    int64\n",
       "SEX_1         int64\n",
       "SEX_2         int64\n",
       "dtype: object"
      ]
     },
     "execution_count": 57,
     "metadata": {},
     "output_type": "execute_result"
    }
   ],
   "source": [
    "x_train.dtypes"
   ]
  },
  {
   "cell_type": "code",
   "execution_count": 55,
   "metadata": {},
   "outputs": [
    {
     "data": {
      "text/plain": [
       "{'accuracy': 0.7706350444687159,\n",
       " 'recall': 0.4717741935483871,\n",
       " 'precision': 0.6892488954344624,\n",
       " 'specificity': 0.9046327683615819}"
      ]
     },
     "execution_count": 55,
     "metadata": {},
     "output_type": "execute_result"
    }
   ],
   "source": [
    "eval_rf_unscaled"
   ]
  },
  {
   "cell_type": "markdown",
   "metadata": {},
   "source": [
    "#### XGBoost"
   ]
  },
  {
   "cell_type": "code",
   "execution_count": 6,
   "metadata": {},
   "outputs": [],
   "source": [
    "from xgboost import XGBClassifier\n",
    "\n",
    "xgb_unscaled = XGBClassifier()\n",
    "xgb_unscaled.fit(x_train, y_train)\n",
    "with open('xgb_unscaled.pkl', 'wb') as file:\n",
    "    pickle.dump(xgb_unscaled, file)"
   ]
  },
  {
   "cell_type": "code",
   "execution_count": 7,
   "metadata": {},
   "outputs": [],
   "source": [
    "xgb_pred_unscaled = xgb_unscaled.predict(x_test)\n",
    "with open('xgb_pred_unscaled.pkl', 'wb') as file:\n",
    "    pickle.dump(xgb_pred_unscaled, file)"
   ]
  },
  {
   "cell_type": "code",
   "execution_count": 8,
   "metadata": {},
   "outputs": [],
   "source": [
    "from sklearn.metrics import confusion_matrix\n",
    "eval_xgb_unscaled = confusion_matrix(xgb_pred_unscaled, y_test)"
   ]
  },
  {
   "cell_type": "markdown",
   "metadata": {},
   "source": [
    "#### Neutral Network"
   ]
  },
  {
   "cell_type": "code",
   "execution_count": 9,
   "metadata": {},
   "outputs": [
    {
     "name": "stderr",
     "output_type": "stream",
     "text": [
      "2024-05-31 15:42:50.684136: I tensorflow/core/platform/cpu_feature_guard.cc:182] This TensorFlow binary is optimized to use available CPU instructions in performance-critical operations.\n",
      "To enable the following instructions: AVX2 AVX512F AVX512_VNNI FMA, in other operations, rebuild TensorFlow with the appropriate compiler flags.\n"
     ]
    },
    {
     "name": "stdout",
     "output_type": "stream",
     "text": [
      "Epoch 1/10\n",
      "30/30 [==============================] - 1s 6ms/step - loss: 16538.8770 - accuracy: 0.4270 - val_loss: 14265.0039 - val_accuracy: 0.4428\n",
      "Epoch 2/10\n",
      "30/30 [==============================] - 0s 2ms/step - loss: 13621.3809 - accuracy: 0.4225 - val_loss: 11526.9648 - val_accuracy: 0.4447\n",
      "Epoch 3/10\n",
      "30/30 [==============================] - 0s 2ms/step - loss: 10851.8076 - accuracy: 0.4286 - val_loss: 8909.1943 - val_accuracy: 0.4516\n",
      "Epoch 4/10\n",
      "30/30 [==============================] - 0s 2ms/step - loss: 8199.3857 - accuracy: 0.4412 - val_loss: 6435.1348 - val_accuracy: 0.4654\n",
      "Epoch 5/10\n",
      "30/30 [==============================] - 0s 2ms/step - loss: 5746.4463 - accuracy: 0.4643 - val_loss: 4211.8765 - val_accuracy: 0.4901\n",
      "Epoch 6/10\n",
      "30/30 [==============================] - 0s 2ms/step - loss: 3652.6287 - accuracy: 0.4969 - val_loss: 2487.8567 - val_accuracy: 0.5422\n",
      "Epoch 7/10\n",
      "30/30 [==============================] - 0s 2ms/step - loss: 2323.6335 - accuracy: 0.5745 - val_loss: 1872.5366 - val_accuracy: 0.6330\n",
      "Epoch 8/10\n",
      "30/30 [==============================] - 0s 2ms/step - loss: 2006.8835 - accuracy: 0.6205 - val_loss: 1734.5739 - val_accuracy: 0.6336\n",
      "Epoch 9/10\n",
      "30/30 [==============================] - 0s 2ms/step - loss: 1855.6008 - accuracy: 0.6164 - val_loss: 1617.0825 - val_accuracy: 0.6330\n",
      "Epoch 10/10\n",
      "30/30 [==============================] - 0s 2ms/step - loss: 1736.1661 - accuracy: 0.6168 - val_loss: 1515.4840 - val_accuracy: 0.6185\n"
     ]
    }
   ],
   "source": [
    "import tensorflow as tf\n",
    "\n",
    "nn_unscaled = tf.keras.Sequential([\n",
    "    tf.keras.layers.Dense(1, activation='sigmoid', input_shape=(x_train.shape[1], ))\n",
    "])\n",
    "\n",
    "nn_unscaled.compile(optimizer='adam', loss='binary_crossentropy', metrics=['accuracy'])\n",
    "nn_unscaled.fit(x_train, y_train, epochs=10, batch_size=512, validation_data=(x_test, y_test))\n",
    "with open('nn_unscaled.pkl', 'wb') as file:\n",
    "    pickle.dump(nn_unscaled, file)"
   ]
  },
  {
   "cell_type": "code",
   "execution_count": 10,
   "metadata": {},
   "outputs": [
    {
     "name": "stdout",
     "output_type": "stream",
     "text": [
      "201/201 [==============================] - 0s 666us/step\n"
     ]
    }
   ],
   "source": [
    "nn_pred_unscaled = nn_unscaled.predict(x_test)\n",
    "with open('nn_pred_unscaled.pkl', 'wb') as file:\n",
    "    pickle.dump(nn_pred_unscaled, file)"
   ]
  },
  {
   "cell_type": "code",
   "execution_count": 11,
   "metadata": {},
   "outputs": [],
   "source": [
    "from sklearn.metrics import confusion_matrix\n",
    "\n",
    "threshold = 0.5\n",
    "nn_pred_binary = (nn_pred_unscaled >= threshold).astype(int)\n",
    "\n",
    "eval_nn_unscaled = confusion_matrix(nn_pred_binary, y_test)"
   ]
  },
  {
   "cell_type": "markdown",
   "metadata": {},
   "source": [
    "### Scaled Data"
   ]
  },
  {
   "cell_type": "code",
   "execution_count": 36,
   "metadata": {},
   "outputs": [],
   "source": [
    "with open('credit_default_datasets.pkl', 'rb') as file:\n",
    "    loaded_datasets = pickle.load(file)\n",
    "\n",
    "credit_default = loaded_datasets['credit_default']\n",
    "x_train = loaded_datasets['x_train']\n",
    "x_test = loaded_datasets['x_test']\n",
    "y_train = loaded_datasets['y_train']\n",
    "y_test = loaded_datasets['y_test']"
   ]
  },
  {
   "cell_type": "code",
   "execution_count": 39,
   "metadata": {},
   "outputs": [],
   "source": [
    "x_train['MARRIAGE_0'] = x_train['MARRIAGE_0'].astype(int)\n",
    "x_train['MARRIAGE_1'] = x_train['MARRIAGE_1'].astype(int)\n",
    "x_train['MARRIAGE_2'] = x_train['MARRIAGE_2'].astype(int)\n",
    "x_train['MARRIAGE_3'] = x_train['MARRIAGE_3'].astype(int)\n",
    "x_train['SEX_1'] = x_train['SEX_1'].astype(int)\n",
    "x_train['SEX_2'] = x_train['SEX_2'].astype(int)\n",
    "\n",
    "x_test['MARRIAGE_0'] = x_test['MARRIAGE_0'].astype(int)\n",
    "x_test['MARRIAGE_1'] = x_test['MARRIAGE_1'].astype(int)\n",
    "x_test['MARRIAGE_2'] = x_test['MARRIAGE_2'].astype(int)\n",
    "x_test['MARRIAGE_3'] = x_test['MARRIAGE_3'].astype(int)\n",
    "x_test['SEX_1'] = x_test['SEX_1'].astype(int)\n",
    "x_test['SEX_2'] = x_test['SEX_2'].astype(int)"
   ]
  },
  {
   "cell_type": "code",
   "execution_count": 40,
   "metadata": {},
   "outputs": [],
   "source": [
    "from sklearn.preprocessing import MinMaxScaler\n",
    "\n",
    "scaler = MinMaxScaler()\n",
    "\n",
    "x_train_scaled = scaler.fit_transform(x_train)\n",
    "x_test_scaled = scaler.fit_transform(x_test)"
   ]
  },
  {
   "cell_type": "code",
   "execution_count": 41,
   "metadata": {},
   "outputs": [
    {
     "data": {
      "text/plain": [
       "array([[0.17721519, 0.66666667, 0.24137931, ..., 0.        , 1.        ,\n",
       "        0.        ],\n",
       "       [0.05063291, 0.66666667, 0.29310345, ..., 0.        , 0.        ,\n",
       "        1.        ],\n",
       "       [0.05063291, 0.66666667, 0.27586207, ..., 0.        , 1.        ,\n",
       "        0.        ],\n",
       "       ...,\n",
       "       [0.60759494, 1.        , 0.29310345, ..., 0.        , 0.        ,\n",
       "        1.        ],\n",
       "       [0.01265823, 0.33333333, 0.03448276, ..., 0.        , 0.        ,\n",
       "        1.        ],\n",
       "       [0.05063291, 0.33333333, 0.62068966, ..., 0.        , 1.        ,\n",
       "        0.        ]])"
      ]
     },
     "execution_count": 41,
     "metadata": {},
     "output_type": "execute_result"
    }
   ],
   "source": [
    "x_train_scaled"
   ]
  },
  {
   "cell_type": "code",
   "execution_count": 42,
   "metadata": {},
   "outputs": [
    {
     "data": {
      "text/plain": [
       "array([[0.37662338, 0.66666667, 0.35185185, ..., 0.        , 0.        ,\n",
       "        1.        ],\n",
       "       [0.16883117, 0.66666667, 0.11111111, ..., 0.        , 0.        ,\n",
       "        1.        ],\n",
       "       [0.11688312, 0.33333333, 0.53703704, ..., 0.        , 0.        ,\n",
       "        1.        ],\n",
       "       ...,\n",
       "       [0.01298701, 0.66666667, 0.38888889, ..., 0.        , 0.        ,\n",
       "        1.        ],\n",
       "       [0.42857143, 0.66666667, 0.16666667, ..., 0.        , 1.        ,\n",
       "        0.        ],\n",
       "       [0.2987013 , 0.66666667, 0.24074074, ..., 0.        , 0.        ,\n",
       "        1.        ]])"
      ]
     },
     "execution_count": 42,
     "metadata": {},
     "output_type": "execute_result"
    }
   ],
   "source": [
    "x_test_scaled"
   ]
  },
  {
   "cell_type": "markdown",
   "metadata": {},
   "source": [
    "#### Random Forest"
   ]
  },
  {
   "cell_type": "code",
   "execution_count": 43,
   "metadata": {},
   "outputs": [],
   "source": [
    "from sklearn.ensemble import RandomForestClassifier\n",
    "rf_scaled = RandomForestClassifier(n_estimators = 1000, random_state = 1234)\n",
    "\n",
    "rf_scaled.fit(x_train_scaled, y_train);\n",
    "with open('random_forest_scaled.pkl', 'wb') as file:\n",
    "    pickle.dump(rf_scaled, file)"
   ]
  },
  {
   "cell_type": "code",
   "execution_count": 44,
   "metadata": {},
   "outputs": [],
   "source": [
    "rf_pred_scaled = rf_scaled.predict(x_test_scaled)\n",
    "with open('rf_pred_scaled.pkl', 'wb') as file:\n",
    "    pickle.dump(rf_pred_scaled, file)"
   ]
  },
  {
   "cell_type": "code",
   "execution_count": 45,
   "metadata": {},
   "outputs": [],
   "source": [
    "from sklearn.metrics import confusion_matrix\n",
    "eval_rf_scaled = confusion_matrix(rf_pred_scaled, y_test)"
   ]
  },
  {
   "cell_type": "markdown",
   "metadata": {},
   "source": [
    "#### XGBoost"
   ]
  },
  {
   "cell_type": "code",
   "execution_count": 46,
   "metadata": {},
   "outputs": [],
   "source": [
    "from xgboost import XGBClassifier\n",
    "from sklearn.model_selection import GridSearchCV\n",
    "\n",
    "param_grid = {\n",
    "    'max_depth': [3, 5, 7],\n",
    "    'learning_rate': [0.1, 0.01, 0.001],\n",
    "    'subsample': [0.5, 0.7, 1]\n",
    "}\n",
    "\n",
    "xgb_scaled = XGBClassifier()\n",
    "grid_search = GridSearchCV(xgb_scaled, param_grid, cv=5, scoring='recall')\n",
    "\n",
    "xgb_scaled.fit(x_train_scaled, y_train)\n",
    "with open('xgb_scaled.pkl', 'wb') as file:\n",
    "    pickle.dump(xgb_scaled, file)"
   ]
  },
  {
   "cell_type": "code",
   "execution_count": 47,
   "metadata": {},
   "outputs": [],
   "source": [
    "xgb_pred_scaled = xgb_scaled.predict(x_test_scaled)\n",
    "with open('xgb_pred_scaled.pkl', 'wb') as file:\n",
    "    pickle.dump(xgb_pred_scaled, file)"
   ]
  },
  {
   "cell_type": "code",
   "execution_count": 48,
   "metadata": {},
   "outputs": [],
   "source": [
    "from sklearn.metrics import confusion_matrix\n",
    "eval_xgb_scaled = confusion_matrix(xgb_pred_scaled, y_test)"
   ]
  },
  {
   "cell_type": "code",
   "execution_count": 49,
   "metadata": {},
   "outputs": [
    {
     "data": {
      "text/plain": [
       "array([[4241, 1684],\n",
       "       [ 184,  300]])"
      ]
     },
     "execution_count": 49,
     "metadata": {},
     "output_type": "execute_result"
    }
   ],
   "source": [
    "eval_xgb_scaled"
   ]
  },
  {
   "cell_type": "markdown",
   "metadata": {},
   "source": [
    "#### Neural Network"
   ]
  },
  {
   "cell_type": "code",
   "execution_count": 58,
   "metadata": {},
   "outputs": [
    {
     "name": "stdout",
     "output_type": "stream",
     "text": [
      "Epoch 1/100\n",
      "30/30 [==============================] - 1s 9ms/step - loss: 0.6554 - accuracy: 0.6484 - val_loss: 0.6565 - val_accuracy: 0.6510\n",
      "Epoch 2/100\n",
      "30/30 [==============================] - 0s 4ms/step - loss: 0.6432 - accuracy: 0.6822 - val_loss: 0.6461 - val_accuracy: 0.6719\n",
      "Epoch 3/100\n",
      "30/30 [==============================] - 0s 4ms/step - loss: 0.6357 - accuracy: 0.6886 - val_loss: 0.6391 - val_accuracy: 0.6842\n",
      "Epoch 4/100\n",
      "30/30 [==============================] - 0s 4ms/step - loss: 0.6300 - accuracy: 0.6892 - val_loss: 0.6333 - val_accuracy: 0.6889\n",
      "Epoch 5/100\n",
      "30/30 [==============================] - 0s 4ms/step - loss: 0.6252 - accuracy: 0.6893 - val_loss: 0.6284 - val_accuracy: 0.6904\n",
      "Epoch 6/100\n",
      "30/30 [==============================] - 0s 4ms/step - loss: 0.6210 - accuracy: 0.6894 - val_loss: 0.6242 - val_accuracy: 0.6914\n",
      "Epoch 7/100\n",
      "30/30 [==============================] - 0s 7ms/step - loss: 0.6172 - accuracy: 0.6898 - val_loss: 0.6206 - val_accuracy: 0.6923\n",
      "Epoch 8/100\n",
      "30/30 [==============================] - 0s 4ms/step - loss: 0.6138 - accuracy: 0.6903 - val_loss: 0.6173 - val_accuracy: 0.6943\n",
      "Epoch 9/100\n",
      "30/30 [==============================] - 0s 4ms/step - loss: 0.6108 - accuracy: 0.6906 - val_loss: 0.6144 - val_accuracy: 0.6967\n",
      "Epoch 10/100\n",
      "30/30 [==============================] - 0s 3ms/step - loss: 0.6080 - accuracy: 0.6911 - val_loss: 0.6117 - val_accuracy: 0.6981\n",
      "Epoch 11/100\n",
      "30/30 [==============================] - 0s 3ms/step - loss: 0.6054 - accuracy: 0.6915 - val_loss: 0.6093 - val_accuracy: 0.7000\n",
      "Epoch 12/100\n",
      "30/30 [==============================] - 0s 4ms/step - loss: 0.6031 - accuracy: 0.6919 - val_loss: 0.6070 - val_accuracy: 0.7010\n",
      "Epoch 13/100\n",
      "30/30 [==============================] - 0s 5ms/step - loss: 0.6009 - accuracy: 0.6922 - val_loss: 0.6048 - val_accuracy: 0.7034\n",
      "Epoch 14/100\n",
      "30/30 [==============================] - 0s 6ms/step - loss: 0.5990 - accuracy: 0.6928 - val_loss: 0.6034 - val_accuracy: 0.7062\n",
      "Epoch 15/100\n",
      "30/30 [==============================] - 0s 5ms/step - loss: 0.5971 - accuracy: 0.6936 - val_loss: 0.6015 - val_accuracy: 0.7078\n",
      "Epoch 16/100\n",
      "30/30 [==============================] - 0s 4ms/step - loss: 0.5954 - accuracy: 0.6948 - val_loss: 0.5999 - val_accuracy: 0.7101\n",
      "Epoch 17/100\n",
      "30/30 [==============================] - 0s 4ms/step - loss: 0.5938 - accuracy: 0.6955 - val_loss: 0.5982 - val_accuracy: 0.7134\n",
      "Epoch 18/100\n",
      "30/30 [==============================] - 0s 5ms/step - loss: 0.5922 - accuracy: 0.6966 - val_loss: 0.5975 - val_accuracy: 0.7154\n",
      "Epoch 19/100\n",
      "30/30 [==============================] - 0s 3ms/step - loss: 0.5909 - accuracy: 0.6977 - val_loss: 0.5958 - val_accuracy: 0.7173\n",
      "Epoch 20/100\n",
      "30/30 [==============================] - 0s 3ms/step - loss: 0.5896 - accuracy: 0.7001 - val_loss: 0.5951 - val_accuracy: 0.7216\n",
      "Epoch 21/100\n",
      "30/30 [==============================] - 0s 5ms/step - loss: 0.5883 - accuracy: 0.7012 - val_loss: 0.5938 - val_accuracy: 0.7227\n",
      "Epoch 22/100\n",
      "30/30 [==============================] - 0s 5ms/step - loss: 0.5872 - accuracy: 0.7025 - val_loss: 0.5929 - val_accuracy: 0.7269\n",
      "Epoch 23/100\n",
      "30/30 [==============================] - 0s 4ms/step - loss: 0.5860 - accuracy: 0.7038 - val_loss: 0.5919 - val_accuracy: 0.7305\n",
      "Epoch 24/100\n",
      "30/30 [==============================] - 0s 5ms/step - loss: 0.5850 - accuracy: 0.7041 - val_loss: 0.5905 - val_accuracy: 0.7308\n",
      "Epoch 25/100\n",
      "30/30 [==============================] - 0s 4ms/step - loss: 0.5840 - accuracy: 0.7067 - val_loss: 0.5904 - val_accuracy: 0.7349\n",
      "Epoch 26/100\n",
      "30/30 [==============================] - 0s 4ms/step - loss: 0.5830 - accuracy: 0.7080 - val_loss: 0.5898 - val_accuracy: 0.7371\n",
      "Epoch 27/100\n",
      "30/30 [==============================] - 0s 3ms/step - loss: 0.5821 - accuracy: 0.7093 - val_loss: 0.5886 - val_accuracy: 0.7374\n",
      "Epoch 28/100\n",
      "30/30 [==============================] - 0s 3ms/step - loss: 0.5813 - accuracy: 0.7107 - val_loss: 0.5884 - val_accuracy: 0.7379\n",
      "Epoch 29/100\n",
      "30/30 [==============================] - 0s 3ms/step - loss: 0.5805 - accuracy: 0.7126 - val_loss: 0.5874 - val_accuracy: 0.7377\n",
      "Epoch 30/100\n",
      "30/30 [==============================] - 0s 3ms/step - loss: 0.5797 - accuracy: 0.7137 - val_loss: 0.5867 - val_accuracy: 0.7383\n",
      "Epoch 31/100\n",
      "30/30 [==============================] - 0s 7ms/step - loss: 0.5790 - accuracy: 0.7139 - val_loss: 0.5862 - val_accuracy: 0.7393\n",
      "Epoch 32/100\n",
      "30/30 [==============================] - 0s 5ms/step - loss: 0.5783 - accuracy: 0.7156 - val_loss: 0.5859 - val_accuracy: 0.7393\n",
      "Epoch 33/100\n",
      "30/30 [==============================] - 0s 5ms/step - loss: 0.5777 - accuracy: 0.7175 - val_loss: 0.5854 - val_accuracy: 0.7404\n",
      "Epoch 34/100\n",
      "30/30 [==============================] - 0s 4ms/step - loss: 0.5770 - accuracy: 0.7181 - val_loss: 0.5843 - val_accuracy: 0.7401\n",
      "Epoch 35/100\n",
      "30/30 [==============================] - 0s 4ms/step - loss: 0.5764 - accuracy: 0.7183 - val_loss: 0.5841 - val_accuracy: 0.7425\n",
      "Epoch 36/100\n",
      "30/30 [==============================] - 0s 4ms/step - loss: 0.5758 - accuracy: 0.7202 - val_loss: 0.5838 - val_accuracy: 0.7438\n",
      "Epoch 37/100\n",
      "30/30 [==============================] - 0s 4ms/step - loss: 0.5752 - accuracy: 0.7209 - val_loss: 0.5831 - val_accuracy: 0.7446\n",
      "Epoch 38/100\n",
      "30/30 [==============================] - 0s 6ms/step - loss: 0.5747 - accuracy: 0.7214 - val_loss: 0.5825 - val_accuracy: 0.7449\n",
      "Epoch 39/100\n",
      "30/30 [==============================] - 0s 4ms/step - loss: 0.5742 - accuracy: 0.7247 - val_loss: 0.5832 - val_accuracy: 0.7450\n",
      "Epoch 40/100\n",
      "30/30 [==============================] - 0s 3ms/step - loss: 0.5737 - accuracy: 0.7237 - val_loss: 0.5819 - val_accuracy: 0.7455\n",
      "Epoch 41/100\n",
      "30/30 [==============================] - 0s 3ms/step - loss: 0.5732 - accuracy: 0.7259 - val_loss: 0.5822 - val_accuracy: 0.7466\n",
      "Epoch 42/100\n",
      "30/30 [==============================] - 0s 3ms/step - loss: 0.5728 - accuracy: 0.7260 - val_loss: 0.5813 - val_accuracy: 0.7468\n",
      "Epoch 43/100\n",
      "30/30 [==============================] - 0s 3ms/step - loss: 0.5723 - accuracy: 0.7267 - val_loss: 0.5816 - val_accuracy: 0.7480\n",
      "Epoch 44/100\n",
      "30/30 [==============================] - 0s 3ms/step - loss: 0.5719 - accuracy: 0.7274 - val_loss: 0.5810 - val_accuracy: 0.7482\n",
      "Epoch 45/100\n",
      "30/30 [==============================] - 0s 3ms/step - loss: 0.5715 - accuracy: 0.7282 - val_loss: 0.5812 - val_accuracy: 0.7482\n",
      "Epoch 46/100\n",
      "30/30 [==============================] - 0s 3ms/step - loss: 0.5711 - accuracy: 0.7286 - val_loss: 0.5805 - val_accuracy: 0.7483\n",
      "Epoch 47/100\n",
      "30/30 [==============================] - 0s 3ms/step - loss: 0.5707 - accuracy: 0.7294 - val_loss: 0.5804 - val_accuracy: 0.7493\n",
      "Epoch 48/100\n",
      "30/30 [==============================] - 0s 3ms/step - loss: 0.5704 - accuracy: 0.7298 - val_loss: 0.5800 - val_accuracy: 0.7496\n",
      "Epoch 49/100\n",
      "30/30 [==============================] - 0s 3ms/step - loss: 0.5700 - accuracy: 0.7310 - val_loss: 0.5804 - val_accuracy: 0.7497\n",
      "Epoch 50/100\n",
      "30/30 [==============================] - 0s 3ms/step - loss: 0.5697 - accuracy: 0.7312 - val_loss: 0.5793 - val_accuracy: 0.7507\n",
      "Epoch 51/100\n",
      "30/30 [==============================] - 0s 3ms/step - loss: 0.5693 - accuracy: 0.7313 - val_loss: 0.5796 - val_accuracy: 0.7502\n",
      "Epoch 52/100\n",
      "30/30 [==============================] - 0s 3ms/step - loss: 0.5690 - accuracy: 0.7313 - val_loss: 0.5791 - val_accuracy: 0.7502\n",
      "Epoch 53/100\n",
      "30/30 [==============================] - 0s 3ms/step - loss: 0.5687 - accuracy: 0.7321 - val_loss: 0.5786 - val_accuracy: 0.7504\n",
      "Epoch 54/100\n",
      "30/30 [==============================] - 0s 3ms/step - loss: 0.5683 - accuracy: 0.7324 - val_loss: 0.5788 - val_accuracy: 0.7507\n",
      "Epoch 55/100\n",
      "30/30 [==============================] - 0s 3ms/step - loss: 0.5681 - accuracy: 0.7348 - val_loss: 0.5790 - val_accuracy: 0.7511\n",
      "Epoch 56/100\n",
      "30/30 [==============================] - 0s 3ms/step - loss: 0.5678 - accuracy: 0.7351 - val_loss: 0.5781 - val_accuracy: 0.7516\n",
      "Epoch 57/100\n",
      "30/30 [==============================] - 0s 3ms/step - loss: 0.5675 - accuracy: 0.7346 - val_loss: 0.5783 - val_accuracy: 0.7521\n",
      "Epoch 58/100\n",
      "30/30 [==============================] - 0s 3ms/step - loss: 0.5672 - accuracy: 0.7350 - val_loss: 0.5780 - val_accuracy: 0.7521\n",
      "Epoch 59/100\n",
      "30/30 [==============================] - 0s 3ms/step - loss: 0.5669 - accuracy: 0.7354 - val_loss: 0.5783 - val_accuracy: 0.7521\n",
      "Epoch 60/100\n",
      "30/30 [==============================] - 0s 3ms/step - loss: 0.5667 - accuracy: 0.7351 - val_loss: 0.5777 - val_accuracy: 0.7525\n",
      "Epoch 61/100\n",
      "30/30 [==============================] - 0s 3ms/step - loss: 0.5664 - accuracy: 0.7354 - val_loss: 0.5775 - val_accuracy: 0.7521\n",
      "Epoch 62/100\n",
      "30/30 [==============================] - 0s 3ms/step - loss: 0.5661 - accuracy: 0.7355 - val_loss: 0.5768 - val_accuracy: 0.7530\n",
      "Epoch 63/100\n",
      "30/30 [==============================] - 0s 2ms/step - loss: 0.5658 - accuracy: 0.7367 - val_loss: 0.5774 - val_accuracy: 0.7530\n",
      "Epoch 64/100\n",
      "30/30 [==============================] - 0s 3ms/step - loss: 0.5656 - accuracy: 0.7371 - val_loss: 0.5772 - val_accuracy: 0.7535\n",
      "Epoch 65/100\n",
      "30/30 [==============================] - 0s 3ms/step - loss: 0.5654 - accuracy: 0.7369 - val_loss: 0.5769 - val_accuracy: 0.7536\n",
      "Epoch 66/100\n",
      "30/30 [==============================] - 0s 3ms/step - loss: 0.5651 - accuracy: 0.7374 - val_loss: 0.5768 - val_accuracy: 0.7535\n",
      "Epoch 67/100\n",
      "30/30 [==============================] - 0s 4ms/step - loss: 0.5649 - accuracy: 0.7380 - val_loss: 0.5768 - val_accuracy: 0.7530\n",
      "Epoch 68/100\n",
      "30/30 [==============================] - 0s 6ms/step - loss: 0.5646 - accuracy: 0.7374 - val_loss: 0.5761 - val_accuracy: 0.7536\n",
      "Epoch 69/100\n",
      "30/30 [==============================] - 0s 4ms/step - loss: 0.5644 - accuracy: 0.7378 - val_loss: 0.5762 - val_accuracy: 0.7533\n",
      "Epoch 70/100\n",
      "30/30 [==============================] - 0s 4ms/step - loss: 0.5642 - accuracy: 0.7375 - val_loss: 0.5757 - val_accuracy: 0.7535\n",
      "Epoch 71/100\n",
      "30/30 [==============================] - 0s 4ms/step - loss: 0.5639 - accuracy: 0.7378 - val_loss: 0.5760 - val_accuracy: 0.7533\n",
      "Epoch 72/100\n",
      "30/30 [==============================] - 0s 5ms/step - loss: 0.5637 - accuracy: 0.7391 - val_loss: 0.5757 - val_accuracy: 0.7530\n",
      "Epoch 73/100\n",
      "30/30 [==============================] - 0s 4ms/step - loss: 0.5635 - accuracy: 0.7383 - val_loss: 0.5757 - val_accuracy: 0.7532\n",
      "Epoch 74/100\n",
      "30/30 [==============================] - 0s 3ms/step - loss: 0.5633 - accuracy: 0.7388 - val_loss: 0.5753 - val_accuracy: 0.7535\n",
      "Epoch 75/100\n",
      "30/30 [==============================] - 0s 3ms/step - loss: 0.5631 - accuracy: 0.7385 - val_loss: 0.5749 - val_accuracy: 0.7539\n",
      "Epoch 76/100\n",
      "30/30 [==============================] - 0s 3ms/step - loss: 0.5629 - accuracy: 0.7396 - val_loss: 0.5756 - val_accuracy: 0.7541\n",
      "Epoch 77/100\n",
      "30/30 [==============================] - 0s 3ms/step - loss: 0.5627 - accuracy: 0.7389 - val_loss: 0.5744 - val_accuracy: 0.7547\n",
      "Epoch 78/100\n",
      "30/30 [==============================] - 0s 4ms/step - loss: 0.5624 - accuracy: 0.7391 - val_loss: 0.5748 - val_accuracy: 0.7552\n",
      "Epoch 79/100\n",
      "30/30 [==============================] - 0s 3ms/step - loss: 0.5623 - accuracy: 0.7400 - val_loss: 0.5747 - val_accuracy: 0.7547\n",
      "Epoch 80/100\n",
      "30/30 [==============================] - 0s 4ms/step - loss: 0.5620 - accuracy: 0.7395 - val_loss: 0.5737 - val_accuracy: 0.7555\n",
      "Epoch 81/100\n",
      "30/30 [==============================] - 0s 3ms/step - loss: 0.5618 - accuracy: 0.7393 - val_loss: 0.5740 - val_accuracy: 0.7546\n",
      "Epoch 82/100\n",
      "30/30 [==============================] - 0s 5ms/step - loss: 0.5617 - accuracy: 0.7408 - val_loss: 0.5743 - val_accuracy: 0.7552\n",
      "Epoch 83/100\n",
      "30/30 [==============================] - 0s 5ms/step - loss: 0.5615 - accuracy: 0.7405 - val_loss: 0.5736 - val_accuracy: 0.7550\n",
      "Epoch 84/100\n",
      "30/30 [==============================] - 0s 5ms/step - loss: 0.5613 - accuracy: 0.7406 - val_loss: 0.5740 - val_accuracy: 0.7550\n",
      "Epoch 85/100\n",
      "30/30 [==============================] - 0s 3ms/step - loss: 0.5611 - accuracy: 0.7405 - val_loss: 0.5733 - val_accuracy: 0.7552\n",
      "Epoch 86/100\n",
      "30/30 [==============================] - 0s 3ms/step - loss: 0.5609 - accuracy: 0.7411 - val_loss: 0.5732 - val_accuracy: 0.7550\n",
      "Epoch 87/100\n",
      "30/30 [==============================] - 0s 3ms/step - loss: 0.5607 - accuracy: 0.7405 - val_loss: 0.5736 - val_accuracy: 0.7549\n",
      "Epoch 88/100\n",
      "30/30 [==============================] - 0s 3ms/step - loss: 0.5606 - accuracy: 0.7423 - val_loss: 0.5740 - val_accuracy: 0.7552\n",
      "Epoch 89/100\n",
      "30/30 [==============================] - 0s 4ms/step - loss: 0.5604 - accuracy: 0.7423 - val_loss: 0.5733 - val_accuracy: 0.7558\n",
      "Epoch 90/100\n",
      "30/30 [==============================] - 0s 6ms/step - loss: 0.5602 - accuracy: 0.7422 - val_loss: 0.5732 - val_accuracy: 0.7550\n",
      "Epoch 91/100\n",
      "30/30 [==============================] - 0s 4ms/step - loss: 0.5600 - accuracy: 0.7417 - val_loss: 0.5729 - val_accuracy: 0.7557\n",
      "Epoch 92/100\n",
      "30/30 [==============================] - 0s 3ms/step - loss: 0.5599 - accuracy: 0.7427 - val_loss: 0.5729 - val_accuracy: 0.7564\n",
      "Epoch 93/100\n",
      "30/30 [==============================] - 0s 3ms/step - loss: 0.5597 - accuracy: 0.7418 - val_loss: 0.5721 - val_accuracy: 0.7572\n",
      "Epoch 94/100\n",
      "30/30 [==============================] - 0s 3ms/step - loss: 0.5595 - accuracy: 0.7423 - val_loss: 0.5725 - val_accuracy: 0.7571\n",
      "Epoch 95/100\n",
      "30/30 [==============================] - 0s 4ms/step - loss: 0.5593 - accuracy: 0.7426 - val_loss: 0.5724 - val_accuracy: 0.7572\n",
      "Epoch 96/100\n",
      "30/30 [==============================] - 0s 4ms/step - loss: 0.5592 - accuracy: 0.7419 - val_loss: 0.5722 - val_accuracy: 0.7578\n",
      "Epoch 97/100\n",
      "30/30 [==============================] - 0s 4ms/step - loss: 0.5590 - accuracy: 0.7437 - val_loss: 0.5723 - val_accuracy: 0.7580\n",
      "Epoch 98/100\n",
      "30/30 [==============================] - 0s 5ms/step - loss: 0.5589 - accuracy: 0.7419 - val_loss: 0.5713 - val_accuracy: 0.7574\n",
      "Epoch 99/100\n",
      "30/30 [==============================] - 0s 4ms/step - loss: 0.5587 - accuracy: 0.7434 - val_loss: 0.5718 - val_accuracy: 0.7575\n",
      "Epoch 100/100\n",
      "30/30 [==============================] - 0s 7ms/step - loss: 0.5585 - accuracy: 0.7437 - val_loss: 0.5716 - val_accuracy: 0.7578\n"
     ]
    }
   ],
   "source": [
    "import tensorflow as tf\n",
    "\n",
    "nn_scaled = tf.keras.Sequential([\n",
    "    tf.keras.layers.Dense(1, activation='sigmoid', input_shape=(x_train_scaled.shape[1], ))\n",
    "   \n",
    "])\n",
    "\n",
    "nn_scaled.compile(optimizer='adam', loss='binary_crossentropy', metrics=['accuracy'])\n",
    "nn_scaled.fit(x_train_scaled, y_train, epochs=100, batch_size=512, validation_data=(x_test_scaled, y_test))\n",
    "with open('nn_scaled.pkl', 'wb') as file:\n",
    "    pickle.dump(nn_scaled, file)"
   ]
  },
  {
   "cell_type": "code",
   "execution_count": 61,
   "metadata": {},
   "outputs": [
    {
     "name": "stdout",
     "output_type": "stream",
     "text": [
      "201/201 [==============================] - 0s 1ms/step\n"
     ]
    }
   ],
   "source": [
    "nn_pred_scaled = nn_scaled.predict(x_test_scaled)\n",
    "with open('nn_pred_scaled.pkl', 'wb') as file:\n",
    "    pickle.dump(nn_pred_scaled, file)"
   ]
  },
  {
   "cell_type": "code",
   "execution_count": 62,
   "metadata": {},
   "outputs": [],
   "source": [
    "from sklearn.metrics import confusion_matrix\n",
    "\n",
    "threshold = 0.5\n",
    "nn_pred_binary = (nn_pred_scaled >= threshold).astype(int)\n",
    "\n",
    "eval_nn_scaled = confusion_matrix(nn_pred_binary, y_test)"
   ]
  },
  {
   "cell_type": "code",
   "execution_count": 53,
   "metadata": {},
   "outputs": [
    {
     "data": {
      "text/plain": [
       "array([[4003, 1048],\n",
       "       [ 422,  936]])"
      ]
     },
     "execution_count": 53,
     "metadata": {},
     "output_type": "execute_result"
    }
   ],
   "source": [
    "eval_rf_unscaled"
   ]
  },
  {
   "cell_type": "code",
   "execution_count": 26,
   "metadata": {},
   "outputs": [
    {
     "data": {
      "text/plain": [
       "array([[4003, 1047],\n",
       "       [ 422,  937]])"
      ]
     },
     "execution_count": 26,
     "metadata": {},
     "output_type": "execute_result"
    }
   ],
   "source": [
    "eval_rf_scaled"
   ]
  },
  {
   "cell_type": "code",
   "execution_count": 27,
   "metadata": {},
   "outputs": [
    {
     "data": {
      "text/plain": [
       "array([[3937, 1045],\n",
       "       [ 488,  939]])"
      ]
     },
     "execution_count": 27,
     "metadata": {},
     "output_type": "execute_result"
    }
   ],
   "source": [
    "eval_xgb_unscaled"
   ]
  },
  {
   "cell_type": "code",
   "execution_count": 28,
   "metadata": {},
   "outputs": [
    {
     "data": {
      "text/plain": [
       "array([[3937, 1045],\n",
       "       [ 488,  939]])"
      ]
     },
     "execution_count": 28,
     "metadata": {},
     "output_type": "execute_result"
    }
   ],
   "source": [
    "eval_xgb_scaled"
   ]
  },
  {
   "cell_type": "code",
   "execution_count": 31,
   "metadata": {},
   "outputs": [
    {
     "data": {
      "text/plain": [
       "array([[3311, 1331],\n",
       "       [1114,  653]])"
      ]
     },
     "execution_count": 31,
     "metadata": {},
     "output_type": "execute_result"
    }
   ],
   "source": [
    "eval_nn_unscaled"
   ]
  },
  {
   "cell_type": "code",
   "execution_count": 30,
   "metadata": {},
   "outputs": [
    {
     "data": {
      "text/plain": [
       "array([[4425, 1984],\n",
       "       [   0,    0]])"
      ]
     },
     "execution_count": 30,
     "metadata": {},
     "output_type": "execute_result"
    }
   ],
   "source": [
    "eval_nn_scaled"
   ]
  },
  {
   "cell_type": "markdown",
   "metadata": {},
   "source": [
    "## Model Evaluation"
   ]
  },
  {
   "cell_type": "code",
   "execution_count": 63,
   "metadata": {},
   "outputs": [
    {
     "data": {
      "text/html": [
       "<div>\n",
       "<style scoped>\n",
       "    .dataframe tbody tr th:only-of-type {\n",
       "        vertical-align: middle;\n",
       "    }\n",
       "\n",
       "    .dataframe tbody tr th {\n",
       "        vertical-align: top;\n",
       "    }\n",
       "\n",
       "    .dataframe thead th {\n",
       "        text-align: right;\n",
       "    }\n",
       "</style>\n",
       "<table border=\"1\" class=\"dataframe\">\n",
       "  <thead>\n",
       "    <tr style=\"text-align: right;\">\n",
       "      <th></th>\n",
       "      <th>Model</th>\n",
       "      <th>Accuracy</th>\n",
       "      <th>Recall</th>\n",
       "      <th>Precision</th>\n",
       "      <th>Specificity</th>\n",
       "    </tr>\n",
       "  </thead>\n",
       "  <tbody>\n",
       "    <tr>\n",
       "      <th>0</th>\n",
       "      <td>RandomForest Unscaled</td>\n",
       "      <td>77.06</td>\n",
       "      <td>47.18</td>\n",
       "      <td>68.92</td>\n",
       "      <td>90.46</td>\n",
       "    </tr>\n",
       "    <tr>\n",
       "      <th>1</th>\n",
       "      <td>XGBoost Unscaled</td>\n",
       "      <td>76.08</td>\n",
       "      <td>47.33</td>\n",
       "      <td>65.80</td>\n",
       "      <td>88.97</td>\n",
       "    </tr>\n",
       "    <tr>\n",
       "      <th>2</th>\n",
       "      <td>NeuralNetwork Unscaled</td>\n",
       "      <td>61.85</td>\n",
       "      <td>32.91</td>\n",
       "      <td>36.96</td>\n",
       "      <td>74.82</td>\n",
       "    </tr>\n",
       "    <tr>\n",
       "      <th>3</th>\n",
       "      <td>RandomForest Scaled</td>\n",
       "      <td>75.60</td>\n",
       "      <td>35.94</td>\n",
       "      <td>70.87</td>\n",
       "      <td>93.38</td>\n",
       "    </tr>\n",
       "    <tr>\n",
       "      <th>4</th>\n",
       "      <td>XGBoost Scaled</td>\n",
       "      <td>70.85</td>\n",
       "      <td>15.12</td>\n",
       "      <td>61.98</td>\n",
       "      <td>95.84</td>\n",
       "    </tr>\n",
       "    <tr>\n",
       "      <th>5</th>\n",
       "      <td>NeuralNetwork Scaled</td>\n",
       "      <td>75.78</td>\n",
       "      <td>43.60</td>\n",
       "      <td>66.64</td>\n",
       "      <td>90.21</td>\n",
       "    </tr>\n",
       "  </tbody>\n",
       "</table>\n",
       "</div>"
      ],
      "text/plain": [
       "                    Model  Accuracy  Recall  Precision  Specificity\n",
       "0   RandomForest Unscaled     77.06   47.18      68.92        90.46\n",
       "1        XGBoost Unscaled     76.08   47.33      65.80        88.97\n",
       "2  NeuralNetwork Unscaled     61.85   32.91      36.96        74.82\n",
       "3     RandomForest Scaled     75.60   35.94      70.87        93.38\n",
       "4          XGBoost Scaled     70.85   15.12      61.98        95.84\n",
       "5    NeuralNetwork Scaled     75.78   43.60      66.64        90.21"
      ]
     },
     "execution_count": 63,
     "metadata": {},
     "output_type": "execute_result"
    }
   ],
   "source": [
    "import numpy as np\n",
    "import pandas as pd\n",
    "from sklearn.metrics import accuracy_score, recall_score, precision_score, confusion_matrix\n",
    "\n",
    "def threshold_predictions(predictions, threshold=0.5):\n",
    "    return (predictions >= threshold).astype(int)\n",
    "\n",
    "def evaluate_model(y_true, y_pred, positive_class):\n",
    "    accuracy = accuracy_score(y_true, y_pred)\n",
    "    recall = recall_score(y_true, y_pred, pos_label=positive_class)\n",
    "    precision = precision_score(y_true, y_pred, pos_label=positive_class)\n",
    "    tn, fp, fn, tp = confusion_matrix(y_true, y_pred).ravel()\n",
    "    specificity = tn / (tn + fp)\n",
    "    return {\n",
    "        \"accuracy\": accuracy,\n",
    "        \"recall\": recall,\n",
    "        \"precision\": precision,\n",
    "        \"specificity\": specificity\n",
    "    }\n",
    "\n",
    "rf_pred_unscaled_binary = threshold_predictions(rf_pred_unscaled)\n",
    "xgb_pred_unscaled_binary = threshold_predictions(xgb_pred_unscaled)\n",
    "nn_pred_unscaled_binary = threshold_predictions(nn_pred_unscaled)\n",
    "\n",
    "rf_pred_scaled_binary = threshold_predictions(rf_pred_scaled)\n",
    "xgb_pred_scaled_binary = threshold_predictions(xgb_pred_scaled)\n",
    "nn_pred_scaled_binary = threshold_predictions(nn_pred_scaled)\n",
    "\n",
    "\n",
    "eval_rf_unscaled = evaluate_model(y_test, rf_pred_unscaled_binary, positive_class=1)\n",
    "eval_xgb_unscaled = evaluate_model(y_test, xgb_pred_unscaled_binary, positive_class=1)\n",
    "eval_nn_unscaled = evaluate_model(y_test, nn_pred_unscaled_binary, positive_class=1)\n",
    "\n",
    "eval_rf_scaled = evaluate_model(y_test, rf_pred_scaled_binary, positive_class=1)\n",
    "eval_xgb_scaled = evaluate_model(y_test, xgb_pred_scaled_binary, positive_class=1)\n",
    "eval_nn_scaled = evaluate_model(y_test, nn_pred_scaled_binary, positive_class=1)\n",
    "\n",
    "\n",
    "compare_rf_unscaled = pd.DataFrame({\n",
    "    \"Model\": [\"RandomForest Unscaled\"],\n",
    "    \"Accuracy\": [round(eval_rf_unscaled[\"accuracy\"] * 100, 2)],\n",
    "    \"Recall\": [round(eval_rf_unscaled[\"recall\"] * 100, 2)],\n",
    "    \"Precision\": [round(eval_rf_unscaled[\"precision\"] * 100, 2)],\n",
    "    \"Specificity\": [round(eval_rf_unscaled[\"specificity\"] * 100, 2)]\n",
    "})\n",
    "\n",
    "compare_xgb_unscaled = pd.DataFrame({\n",
    "    \"Model\": [\"XGBoost Unscaled\"],\n",
    "    \"Accuracy\": [round(eval_xgb_unscaled[\"accuracy\"] * 100, 2)],\n",
    "    \"Recall\": [round(eval_xgb_unscaled[\"recall\"] * 100, 2)],\n",
    "    \"Precision\": [round(eval_xgb_unscaled[\"precision\"] * 100, 2)],\n",
    "    \"Specificity\": [round(eval_xgb_unscaled[\"specificity\"] * 100, 2)]\n",
    "})\n",
    "\n",
    "compare_nn_unscaled = pd.DataFrame({\n",
    "    \"Model\": [\"NeuralNetwork Unscaled\"],\n",
    "    \"Accuracy\": [round(eval_nn_unscaled[\"accuracy\"] * 100, 2)],\n",
    "    \"Recall\": [round(eval_nn_unscaled[\"recall\"] * 100, 2)],\n",
    "    \"Precision\": [round(eval_nn_unscaled[\"precision\"] * 100, 2)],\n",
    "    \"Specificity\": [round(eval_nn_unscaled[\"specificity\"] * 100, 2)]\n",
    "})\n",
    "\n",
    "compare_rf_scaled = pd.DataFrame({\n",
    "    \"Model\": [\"RandomForest Scaled\"],\n",
    "    \"Accuracy\": [round(eval_rf_scaled[\"accuracy\"] * 100, 2)],\n",
    "    \"Recall\": [round(eval_rf_scaled[\"recall\"] * 100, 2)],\n",
    "    \"Precision\": [round(eval_rf_scaled[\"precision\"] * 100, 2)],\n",
    "    \"Specificity\": [round(eval_rf_scaled[\"specificity\"] * 100, 2)]\n",
    "})\n",
    "\n",
    "compare_xgb_scaled = pd.DataFrame({\n",
    "    \"Model\": [\"XGBoost Scaled\"],\n",
    "    \"Accuracy\": [round(eval_xgb_scaled[\"accuracy\"] * 100, 2)],\n",
    "    \"Recall\": [round(eval_xgb_scaled[\"recall\"] * 100, 2)],\n",
    "    \"Precision\": [round(eval_xgb_scaled[\"precision\"] * 100, 2)],\n",
    "    \"Specificity\": [round(eval_xgb_scaled[\"specificity\"] * 100, 2)]\n",
    "})\n",
    "\n",
    "compare_nn_scaled = pd.DataFrame({\n",
    "    \"Model\": [\"NeuralNetwork Scaled\"],\n",
    "    \"Accuracy\": [round(eval_nn_scaled[\"accuracy\"] * 100, 2)],\n",
    "    \"Recall\": [round(eval_nn_scaled[\"recall\"] * 100, 2)],\n",
    "    \"Precision\": [round(eval_nn_scaled[\"precision\"] * 100, 2)],\n",
    "    \"Specificity\": [round(eval_nn_scaled[\"specificity\"] * 100, 2)]\n",
    "})\n",
    "\n",
    "pd.concat([compare_rf_unscaled, compare_xgb_unscaled, compare_nn_unscaled, compare_rf_scaled, compare_xgb_scaled, compare_nn_scaled], ignore_index=True)\n"
   ]
  }
 ],
 "metadata": {
  "interpreter": {
   "hash": "1d8311c711ec6dafa269039a6bd600901d06a16e321e4f2175cf9d393c7170ce"
  },
  "kernelspec": {
   "display_name": "Python 3.11.5 64-bit ('base': conda)",
   "language": "python",
   "name": "python3"
  },
  "language_info": {
   "codemirror_mode": {
    "name": "ipython",
    "version": 3
   },
   "file_extension": ".py",
   "mimetype": "text/x-python",
   "name": "python",
   "nbconvert_exporter": "python",
   "pygments_lexer": "ipython3",
   "version": "3.8.19"
  },
  "orig_nbformat": 4
 },
 "nbformat": 4,
 "nbformat_minor": 2
}
