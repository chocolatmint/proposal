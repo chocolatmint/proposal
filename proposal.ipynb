{
 "cells": [
  {
   "cell_type": "markdown",
   "metadata": {},
   "source": [
    "# Shopee - Price Match Guarantee\n",
    "Author: Maudy N Avianti\n",
    "\n",
    "Created: 16 April 2024"
   ]
  },
  {
   "cell_type": "markdown",
   "metadata": {},
   "source": [
    "## Background\n",
    "\n",
    "Seiring dengan naiknya tingkat penetrasi internet di Indonesia, begitu pula kenaikan penjualan barang-barang secara online atau disebut sebagai situs e-commerce. \n",
    "\n",
    "<img src=\"shopee.webp\" alt=\"\" style=\"width:50%;\"/>\n",
    "\n",
    "Berdasarkan infografis di atas, dapat dilihat bahwa Shopee merupakan situs e-commerce nomor satu dengan pengunjung terbanyak di Indonesia. Hal ini terjadi karena banyak hal; meliputi strategi marketing hingga target marketnya. Salah satu alasan yang mendukung banyaknya pengunjung ke Shopee adalah Shopee menerapkan program gratis ongkos kirim. Konsumen menyukai program tersebut karena konsumen dapat membeli produk yang mereka inginkan tanpa perlu membayar ongkos kirim. \n",
    "\n",
    "Hal ini tentu juga memiliki pengaruh lebih lanjut. Karena lebih banyak konsumen yang ingin melakukan transaksi jual-beli di situs Shopee, penjual berbondong-bondong membuka toko online mereka di platform Shopee, sehingga akan menciptakan persaingan yang lebih ketat di antara para penjual. Tentu saja ini menguntungkan konsumen karena mereka memiliki lebih banyak pilihan dan dapat mencari penawaran harga yang lebih baik. \n",
    "\n",
    "Akan tetapi, agar produknya dapat unggul dari pada produk dari toko lain maka penjual harus menggunakan trik-trik agar konsumen memilih produk yang mereka jual. Sebagai contoh, penjual memberi nama produk dengan menggunakan berbagai keyword unik (click bait) atau menggunakan foto produk dengan tampilan sangat baik yang dapat menarik perhatian konsumen. \n",
    "\n",
    "Shopee sebagai platform e-commerce harus mampu melakukan *grouping* terhadap produk yang dijual agar jika konsumen mencari produk berdasarkan keyword tertentu, Shopee dapat menampilkan produk yang tepat. Salah satu cara untuk meningkatkan efisiensi dalam grouping produk adalah dengan menggunakan algoritma Maching Learning terhadap foto produk yang akan dibuat dalam projek ini.\n",
    "\n",
    "Projek ini akan menggunakan dataset dari challenge Shopee - Price Match Guarantee di Kaggle. Dengan algoritma yang tepat, diharapkan Machine Learning dapat mengidentifikasi dan mengelompokkan produk-produk yang serupa berdasarkan gambar."
   ]
  },
  {
   "cell_type": "markdown",
   "metadata": {},
   "source": [
    "## Problem Statement\n",
    "\n",
    "Untuk dataset kali ini, result yang diharapkan adalah pasangan dari foto-foto yang dianggap sebagai produk yang sama. Sebagai ilustrasi, jika ada toko A dan B yang menjual produk dengan gambar botol shampoo dan merk 'Shampoo ABC' dengan ilustrasi yang mirip, maka kedua produk ini akan dianggap sebagai produk yang sama. Masalahnya, terkadang tidak semua toko menggunakan foto dari sumber yang sama. Terkadang foto yang diambil juga menggunakan angle yang berbeda. Hal ini tentunya mudah jika dilihat manual oleh mata manusia. Akan tetapi bagaimana jika komputer yang harus menilainya? Inilah masalah yang harus bisa dipecahkan oleh Machine Learning yang akan dibuat oleh projek ini."
   ]
  },
  {
   "cell_type": "markdown",
   "metadata": {},
   "source": [
    "## Project Idea\n",
    "Berdasarkan Problem Statement di atas, projek ini akan mencoba untuk melakukan image detection secara Unsupervised Learning (pengidentifikasian dan pengelompokan gambar) dengan menggunakan Neural Network dari package Keras milik TensorFlow. Projek Machine Learning akan dikembangkan dengan menggunakan bahasa Python."
   ]
  },
  {
   "cell_type": "markdown",
   "metadata": {},
   "source": [
    "## Problem Scope\n",
    "Projek ini akan menggunakan dataset yang diambil dari situs Kaggle dengan judul [\"Shopee Competition Kaggle URL\"](https://www.kaggle.com/competitions/shopee-product-matching/data). Dataset ini mengandung informasi sebagai berikut:\n",
    "\n",
    "- posting_id - the ID code for the posting.\n",
    "\n",
    "- image - the image id/md5sum.\n",
    "\n",
    "- image_phash - a perceptual hash of the image.\n",
    "\n",
    "- title - the product description for the posting.\n",
    "\n",
    "- label_group - ID code for all postings that map to the same product. Not provided for the test set.\n",
    "\n",
    "Tidak ada target predictor yang dapat digunakan dari dataset di atas karena masalah akan dipecahkan menggunakan cara Unsupervised Learning. Sementara itu, predictor variables akan menggunakan gambar dari kolom `image`."
   ]
  },
  {
   "cell_type": "markdown",
   "metadata": {},
   "source": [
    "## Output\n",
    "Output dari project ini berupa dashboard analysis yang menampilkan Exploratory Data untuk menunjukkan produk yang dianggap sama.\n",
    "\n",
    "Business Impact: Selain identifikasi foto produk yang dijual di Shopee, project ini bisa dikembangkan untuk melakukan identifikasi foto pada e-commerce lain. Kita dapat membangun website yang berfungsi untuk mengelompokkan setiap produk sejenis yang dijual di semua e-commerce, dan dengan proses crawling data kita juga dapat menentukan dari semua produk sejenis mana produk dengan harga paling murah. Hal ini tentu berguna bagi konsumen yang senang melakukan perbandinga harga sebelum membeli barang. Konsumen tidak perlu mencari manual satu-satu ke setiap e-commerce, hanya dengan menggunakan keyword tertentu, produk yang dijual di setiap e-commerce akan tampil di halaman yang sama. \n",
    "\n",
    "Akan tetapi, karena keterbatasan data yang ada, projek ini tidak akan menyentuh scope tersebut dan hanya akan sebatas membandingkan mana gambar dari produk yang sejenis."
   ]
  },
  {
   "cell_type": "markdown",
   "metadata": {},
   "source": [
    "## Business Impact"
   ]
  },
  {
   "cell_type": "markdown",
   "metadata": {},
   "source": [
    "## EDA Process"
   ]
  },
  {
   "cell_type": "markdown",
   "metadata": {},
   "source": [
    "## Referensi\n",
    "\n",
    "- [Shopee Competition Kaggle URL](https://www.kaggle.com/competitions/shopee-product-matching/data)"
   ]
  }
 ],
 "metadata": {
  "language_info": {
   "name": "python"
  },
  "orig_nbformat": 4
 },
 "nbformat": 4,
 "nbformat_minor": 2
}
